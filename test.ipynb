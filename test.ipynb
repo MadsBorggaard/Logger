{
 "cells": [
  {
   "cell_type": "code",
   "execution_count": 7,
   "metadata": {},
   "outputs": [
    {
     "name": "stdout",
     "output_type": "stream",
     "text": [
      "The autoreload extension is already loaded. To reload it, use:\n",
      "  %reload_ext autoreload\n",
      "False\n"
     ]
    }
   ],
   "source": [
    "%load_ext autoreload\n",
    "%autoreload 2\n",
    "\n",
    "from logger import Logger\n",
    "from time import sleep\n",
    "\n",
    "log_file = r'D:\\PythonScripts\\test.log'\n",
    "\n",
    "l = Logger(log_file, debug=False)\n",
    "\n",
    "l.start()\n",
    "l.info('Dette er en test')\n",
    "l.critical('Dette er kritisk')\n",
    "l.warning('Dette er en advarsel')\n",
    "l.end()\n",
    "\n",
    "print(l.checklog('both'))"
   ]
  },
  {
   "cell_type": "code",
   "execution_count": 10,
   "metadata": {},
   "outputs": [
    {
     "name": "stdout",
     "output_type": "stream",
     "text": [
      "Fejl\n"
     ]
    }
   ],
   "source": [
    "if l.checklog():\n",
    "    print('ok')\n",
    "else:\n",
    "    print('Fejl')"
   ]
  },
  {
   "cell_type": "code",
   "execution_count": 9,
   "metadata": {},
   "outputs": [
    {
     "name": "stdout",
     "output_type": "stream",
     "text": [
      "Choose between 'criticals', 'warnings', 'both'\n",
      "        Returns False if any type is flagged else True\n",
      "*********************\n",
      "\n",
      "    A Class to log infomation to a txt file\n",
      "\n",
      "    ...\n",
      "\n",
      "    Attributes\n",
      "    __________\n",
      "    path : str\n",
      "        the full path to the log-file e.g. 'c:/folder/to/where/the/file/is/located/log.log'\n",
      "    debug : bool\n",
      "        if set to True, criticals and warnings won't be counted\n",
      "        default is False\n",
      "\n",
      "    Methods\n",
      "    _________\n",
      "    start()\n",
      "        starting the logger\n",
      "\n",
      "    end() \n",
      "        ends the logger\n",
      "\n",
      "    info(msg)\n",
      "        writes a INFO line to the log-file\n",
      "\n",
      "    warning(msg)\n",
      "        writes a WARNING line to the log-file\n",
      "\n",
      "    critical(msg)\n",
      "        writes a CRITICAL line to the log-file\n",
      "\n",
      "    checklog(type) returns bool\n",
      "        checks for criticals, warnings or both\n",
      "        default is 'criticals'\n",
      "        can be set to 'criticals', 'warnings' or 'both'\n",
      "\n",
      "    \n"
     ]
    }
   ],
   "source": [
    "print(l.checklog.__doc__)\n",
    "\n",
    "print('*********************')\n",
    "print(l.__doc__)"
   ]
  }
 ],
 "metadata": {
  "kernelspec": {
   "display_name": "PyGame",
   "language": "python",
   "name": "python3"
  },
  "language_info": {
   "codemirror_mode": {
    "name": "ipython",
    "version": 3
   },
   "file_extension": ".py",
   "mimetype": "text/x-python",
   "name": "python",
   "nbconvert_exporter": "python",
   "pygments_lexer": "ipython3",
   "version": "3.11.9"
  }
 },
 "nbformat": 4,
 "nbformat_minor": 2
}
